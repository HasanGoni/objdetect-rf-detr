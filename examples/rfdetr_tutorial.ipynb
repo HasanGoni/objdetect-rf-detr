{
 "cells": [
  {
   "cell_type": "markdown",
   "metadata": {},
   "source": [
    "# RF-DETR: Roboflow Detection Transformer Tutorial\n",
    "\n",
    "This tutorial demonstrates how to use the RF-DETR model for object detection tasks. RF-DETR is an enhanced version of the DETR (Detection Transformer) model with improvements focused on faster convergence and easier fine-tuning."
   ]
  },
  {
   "cell_type": "markdown",
   "metadata": {},
   "source": [
    "## Setup\n",
    "\n",
    "Let's start by installing the library (if you haven't already):"
   ]
  },
  {
   "cell_type": "code",
   "execution_count": null,
   "metadata": {},
   "source": [
    "# Install the library (uncomment if needed)\n",
    "# !pip install git+https://github.com/HasanGoni/objdetect-rf-detr.git"
   ]
  },
  {
   "cell_type": "code",
   "execution_count": null,
   "metadata": {},
   "source": [
    "# Import required libraries\n",
    "import torch\n",
    "from PIL import Image\n",
    "import matplotlib.pyplot as plt\n",
    "import numpy as np\n",
    "import requests\n",
    "from io import BytesIO\n",
    "\n",
    "# Import from our package\n",
    "from objdetect.models import create_model\n",
    "from objdetect.utils import plot_detections"
   ]
  },
  {
   "cell_type": "markdown",
   "metadata": {},
   "source": [
    "## Load a Pre-trained RF-DETR Model\n",
    "\n",
    "Let's create an RF-DETR model pre-trained on the COCO dataset:"
   ]
  },
  {
   "cell_type": "code",
   "execution_count": null,
   "metadata": {},
   "source": [
    "# Create the model\n",
    "model = create_model(\"rfdetr\", num_classes=91, pretrained=True)\n",
    "\n",
    "# Set to evaluation mode\n",
    "model.eval()\n",
    "\n",
    "# Check if CUDA is available and move model to GPU if possible\n",
    "device = torch.device('cuda' if torch.cuda.is_available() else 'cpu')\n",
    "model = model.to(device)\n",
    "\n",
    "print(f\"Model created and running on {device}\")"
   ]
  },
  {
   "cell_type": "markdown",
   "metadata": {},
   "source": [
    "## Load COCO Class Names\n",
    "\n",
    "Let's load the COCO class names for better visualization:"
   ]
  },
  {
   "cell_type": "code",
   "execution_count": null,
   "metadata": {},
   "source": [
    "# COCO class names\n",
    "COCO_CLASSES = [\n",
    "    '__background__', 'person', 'bicycle', 'car', 'motorcycle', 'airplane', 'bus',\n",
    "    'train', 'truck', 'boat', 'traffic light', 'fire hydrant', 'N/A', 'stop sign',\n",
    "    'parking meter', 'bench', 'bird', 'cat', 'dog', 'horse', 'sheep', 'cow',\n",
    "    'elephant', 'bear', 'zebra', 'giraffe', 'N/A', 'backpack', 'umbrella', 'N/A', 'N/A',\n",
    "    'handbag', 'tie', 'suitcase', 'frisbee', 'skis', 'snowboard', 'sports ball',\n",
    "    'kite', 'baseball bat', 'baseball glove', 'skateboard', 'surfboard', 'tennis racket',\n",
    "    'bottle', 'N/A', 'wine glass', 'cup', 'fork', 'knife', 'spoon', 'bowl',\n",
    "    'banana', 'apple', 'sandwich', 'orange', 'broccoli', 'carrot', 'hot dog', 'pizza',\n",
    "    'donut', 'cake', 'chair', 'couch', 'potted plant', 'bed', 'N/A', 'dining table',\n",
    "    'N/A', 'N/A', 'toilet', 'N/A', 'tv', 'laptop', 'mouse', 'remote', 'keyboard', 'cell phone',\n",
    "    'microwave', 'oven', 'toaster', 'sink', 'refrigerator', 'N/A', 'book',\n",
    "    'clock', 'vase', 'scissors', 'teddy bear', 'hair drier', 'toothbrush'\n",
    "]"
   ]
  },
  {
   "cell_type": "markdown",
   "metadata": {},
   "source": [
    "## Load and Preprocess a Test Image"
   ]
  },
  {
   "cell_type": "code",
   "execution_count": null,
   "metadata": {},
   "source": [
    "# Function to load an image from URL\n",
    "def load_image_from_url(url):\n",
    "    response = requests.get(url)\n",
    "    img = Image.open(BytesIO(response.content))\n",
    "    return img\n",
    "\n",
    "# Load a test image\n",
    "image_url = \"https://raw.githubusercontent.com/ultralytics/yolov5/master/data/images/zidane.jpg\"\n",
    "image = load_image_from_url(image_url)\n",
    "\n",
    "# Display the original image\n",
    "plt.figure(figsize=(10, 6))\n",
    "plt.imshow(image)\n",
    "plt.axis('off')\n",
    "plt.title('Original Image')\n",
    "plt.show()"
   ]
  },
  {
   "cell_type": "markdown",
   "metadata": {},
   "source": [
    "## Run Inference with RF-DETR"
   ]
  },
  {
   "cell_type": "code",
   "execution_count": null,
   "metadata": {},
   "source": [
    "# Set threshold for detection confidence\n",
    "threshold = 0.7\n",
    "\n",
    "# Run inference\n",
    "with torch.no_grad():\n",
    "    predictions = model.predict(image)\n",
    "    \n",
    "# Extract the predictions for the first (and only) image\n",
    "prediction = predictions[0]\n",
    "\n",
    "# Print detection summary\n",
    "scores = prediction['scores']\n",
    "labels = prediction['labels']\n",
    "boxes = prediction['boxes']\n",
    "\n",
    "# Filter by threshold\n",
    "mask = scores >= threshold\n",
    "filtered_scores = scores[mask]\n",
    "filtered_labels = labels[mask]\n",
    "filtered_boxes = boxes[mask]\n",
    "\n",
    "print(f\"Detected {len(filtered_scores)} objects with confidence >= {threshold}:\")\n",
    "for i in range(len(filtered_scores)):\n",
    "    class_name = COCO_CLASSES[filtered_labels[i]]\n",
    "    print(f\"  {class_name}: {filtered_scores[i]:.2f} at {filtered_boxes[i].tolist()}\")"
   ]
  },
  {
   "cell_type": "markdown",
   "metadata": {},
   "source": [
    "## Visualize the Detections"
   ]
  },
  {
   "cell_type": "code",
   "execution_count": null,
   "metadata": {},
   "source": [
    "# Visualize using our utility function\n",
    "fig, ax = plot_detections(image, prediction, class_names=COCO_CLASSES, score_threshold=threshold)\n",
    "plt.title('RF-DETR Object Detection Results')\n",
    "plt.show()"
   ]
  },
  {
   "cell_type": "markdown",
   "metadata": {},
   "source": [
    "## Fine-tuning on a Custom Dataset\n",
    "\n",
    "The following example shows how you would fine-tune RF-DETR on a custom dataset. This is a placeholder for demonstration - you would need your own dataset to actually run this code."
   ]
  },
  {
   "cell_type": "code",
   "execution_count": null,
   "metadata": {},
   "source": [
    "# Create a model with custom number of classes (for example, 5 classes)\n",
    "custom_model = create_model(\"rfdetr\", num_classes=5, pretrained=True)\n",
    "\n",
    "# Define fine-tuning parameters\n",
    "dataset_path = \"path/to/your/dataset\"  # Replace with actual path\n",
    "output_dir = \"./fine_tuned_model\"\n",
    "epochs = 10\n",
    "batch_size = 8\n",
    "lr = 0.0001\n",
    "\n",
    "# This would actually run if you had a prepared dataset\n",
    "# metrics = custom_model.fine_tune(\n",
    "#     dataset_path=dataset_path,\n",
    "#     output_dir=output_dir,\n",
    "#     epochs=epochs,\n",
    "#     batch_size=batch_size,\n",
    "#     lr=lr\n",
    "# )"
   ]
  },
  {
   "cell_type": "markdown",
   "metadata": {},
   "source": [
    "## Conclusion\n",
    "\n",
    "In this tutorial, we've demonstrated how to:\n",
    "\n",
    "1. Load a pre-trained RF-DETR model\n",
    "2. Run inference on test images\n",
    "3. Visualize the detection results\n",
    "4. Outline the fine-tuning process for custom datasets\n",
    "\n",
    "RF-DETR provides a clean API for object detection tasks with the power of transformer-based architecture, making it easier to detect objects accurately in various scenarios."
   ]
  }
 ],
 "metadata": {
  "kernelspec": {
   "display_name": "Python 3",
   "language": "python",
   "name": "python3"
  },
  "language_info": {
   "codemirror_mode": {
    "name": "ipython",
    "version": 3
   },
   "file_extension": ".py",
   "mimetype": "text/x-python",
   "name": "python",
   "nbconvert_exporter": "python",
   "pygments_lexer": "ipython3",
   "version": "3.8.10"
  }
 },
 "nbformat": 4,
 "nbformat_minor": 4
}